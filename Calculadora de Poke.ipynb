{
 "cells": [
  {
   "cell_type": "code",
   "execution_count": null,
   "id": "3e188ff1",
   "metadata": {},
   "outputs": [],
   "source": [
    "#\n",
    "#Ingredient Adjuster (\"poke\")\n",
    "\n",
    "#poke for 2  people = 1 Tuna medallion + 1/2 pinnapple + 1/2 Avocado + 320 grams of rice + 2/3 cucumber + 2/10 de green onion\n",
    "\n",
    "# + 10 ml of soy + 100 ml of cream + 100 grams of chipotle\n",
    "\n",
    "    \n",
    "poke=int(input(\"Cuantos pokes necesitas hacer?\\n>\"))\n",
    "atun=(25*poke)\n",
    "piña=round(0.25*poke)\n",
    "aguacate=float(0.5*poke)\n",
    "arroz=(0.16*poke)\n",
    "pepino=round(0.3*poke)\n",
    "cebollin=round(0.25*poke)\n",
    "soya=(25*poke)\n",
    "crema=(30*poke)\n",
    "\n",
    "print(\"para hacer poke para\",poke,\"personas\",\"necesitaras:\"),\\\n",
    "      format(atun,), \"↑ Gramos de Atun\",\\\n",
    "      format(piña,'.2f'), \"↑ Piñas\",\\\n",
    "      format(aguacate,'.2f'), \" ↑ Aguacates\",\\\n",
    "      format(arroz,'.2f'), \"↑ kilos de Arroz\",\\\n",
    "      format(pepino,'.2f'), \"↑ Pepino\",\\\n",
    "      format(cebollin,'.2f'), \"↑ Tajos de cebollines\",\\\n",
    "      format(soya,'.2f'), \"↑ ML de Soya\",\\\n",
    "      format(crema,), \"↑ ML de Crema\",\\\n",
    "\n",
    "      \n",
    "      \n",
    "      \n",
    "      \n",
    "\n",
    " \n",
    "\n",
    "\n",
    "\n",
    "\n",
    "\n",
    "\n",
    "           \n",
    "        \n",
    "    \n"
   ]
  },
  {
   "cell_type": "code",
   "execution_count": null,
   "id": "1ae77590",
   "metadata": {},
   "outputs": [],
   "source": []
  }
 ],
 "metadata": {
  "kernelspec": {
   "display_name": "Python 3 (ipykernel)",
   "language": "python",
   "name": "python3"
  },
  "language_info": {
   "codemirror_mode": {
    "name": "ipython",
    "version": 3
   },
   "file_extension": ".py",
   "mimetype": "text/x-python",
   "name": "python",
   "nbconvert_exporter": "python",
   "pygments_lexer": "ipython3",
   "version": "3.10.3"
  },
  "vscode": {
   "interpreter": {
    "hash": "334b0d52918f422207abe6ecde03d31eba819374518659bcf595b5ff15fcc264"
   }
  }
 },
 "nbformat": 4,
 "nbformat_minor": 5
}
